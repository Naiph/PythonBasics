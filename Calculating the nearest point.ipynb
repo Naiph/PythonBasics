{
 "cells": [
  {
   "cell_type": "code",
   "execution_count": 1,
   "metadata": {},
   "outputs": [
    {
     "name": "stdout",
     "output_type": "stream",
     "text": [
      "3.0\n",
      "2.23606797749979\n",
      "4.0\n",
      "2.23606797749979\n",
      "3.0\n",
      "1.4142135623730951\n",
      "1.4142135623730951\n",
      "2.23606797749979\n",
      "1.0\n",
      "1.0\n"
     ]
    }
   ],
   "source": [
    "# Calculating the nearest point to a random point\n",
    "    \n",
    "\n",
    "import numpy as np\n",
    "import math\n",
    "\n",
    "\n",
    "def dist(x1,x2,y1,y2):\n",
    "    dist = (x2 - x1)*(x2 - x1) + (y2 - y1)*(y2 - y1)\n",
    "\n",
    "    return math.sqrt(dist)\n",
    "\n",
    "\n",
    "#l = [i for i in range(20,30)]\n",
    "#li = [i for i in range(50,60)]\n",
    "\n",
    "#for i in range(9):\n",
    " #   print(dist(0,l[i],0,li[i]))\n",
    "\n",
    "#li = [i for i in range(1,11)]\n",
    "\n",
    "#l = [j for j in range(20,30)]   \n",
    "\n",
    "xcord = np.random.randint(10, size=(10))\n",
    "\n",
    "ycord = np.random.randint(10, size=(10))\n",
    "\n",
    "\n",
    "for j in range(10):\n",
    "    pox = xcord[j]\n",
    "    poy = ycord[j]\n",
    "\n",
    "    minn = np.finfo(np.float64).max\n",
    "\n",
    "    for i in range(10):\n",
    "        #print(pox,xcord[i],poy,ycord[i])\n",
    "        k = dist(pox,xcord[i],poy,ycord[i])\n",
    "        #print(k) \n",
    "        if minn > k and k != 0:\n",
    "            minn = k\n",
    "    print(minn)\n"
   ]
  }
 ],
 "metadata": {
  "kernelspec": {
   "display_name": "Python 3",
   "language": "python",
   "name": "python3"
  },
  "language_info": {
   "codemirror_mode": {
    "name": "ipython",
    "version": 3
   },
   "file_extension": ".py",
   "mimetype": "text/x-python",
   "name": "python",
   "nbconvert_exporter": "python",
   "pygments_lexer": "ipython3",
   "version": "3.6.1"
  }
 },
 "nbformat": 4,
 "nbformat_minor": 2
}
