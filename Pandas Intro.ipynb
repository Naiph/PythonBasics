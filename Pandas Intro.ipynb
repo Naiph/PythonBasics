{
 "cells": [
  {
   "cell_type": "code",
   "execution_count": 1,
   "metadata": {
    "collapsed": true
   },
   "outputs": [],
   "source": [
    "# Panel Data. Its built on top of numpy. "
   ]
  },
  {
   "cell_type": "code",
   "execution_count": null,
   "metadata": {
    "collapsed": true
   },
   "outputs": [],
   "source": [
    "## Dictionary is a tree based structure. Its not a linear search but a logarithmic search.\n",
    "## Key needs to be immutable\n",
    "\n",
    "## NUmpy:NDArray,Ufuncs    Pandas:Series,Dataframes,Index\n",
    "\n",
    "### ndarray:lists   series:dictionaries"
   ]
  },
  {
   "cell_type": "code",
   "execution_count": 18,
   "metadata": {},
   "outputs": [
    {
     "name": "stdout",
     "output_type": "stream",
     "text": [
      "{0: 1, 1.5707963267948966: 0, 0.7853981633974483: 0.8764241893076249, 1.0471975511965976: 0.5}\n",
      "<class 'dict'>\n"
     ]
    }
   ],
   "source": [
    "import numpy as np\n",
    "d = {0:1, np.pi/2:0, np.pi/4:1/1.141, np.pi/3:0.5}\n",
    "print(d)\n",
    "print(type(d))"
   ]
  },
  {
   "cell_type": "code",
   "execution_count": 19,
   "metadata": {},
   "outputs": [
    {
     "name": "stdout",
     "output_type": "stream",
     "text": [
      "1\n",
      "0.5\n"
     ]
    }
   ],
   "source": [
    "print(d[0])\n",
    "print(d[np.pi/3])\n",
    "#d[1]"
   ]
  },
  {
   "cell_type": "code",
   "execution_count": 21,
   "metadata": {},
   "outputs": [
    {
     "data": {
      "text/plain": [
       "0"
      ]
     },
     "execution_count": 21,
     "metadata": {},
     "output_type": "execute_result"
    }
   ],
   "source": [
    "d[1.5707963267948966]"
   ]
  },
  {
   "cell_type": "code",
   "execution_count": 32,
   "metadata": {
    "collapsed": true
   },
   "outputs": [],
   "source": [
    "d[np.pi] = -1"
   ]
  },
  {
   "cell_type": "code",
   "execution_count": 36,
   "metadata": {},
   "outputs": [
    {
     "name": "stdout",
     "output_type": "stream",
     "text": [
      "True\n"
     ]
    }
   ],
   "source": [
    "flag = np.pi in d\n",
    "print(flag)"
   ]
  },
  {
   "cell_type": "code",
   "execution_count": 38,
   "metadata": {},
   "outputs": [
    {
     "name": "stdout",
     "output_type": "stream",
     "text": [
      "{0: 1, 1.5707963267948966: 0, 0.7853981633974483: 0.8764241893076249, 1.0471975511965976: 0.5, 3.141592653589793: -1}\n",
      "dict_keys([0, 1.5707963267948966, 0.7853981633974483, 1.0471975511965976, 3.141592653589793])\n",
      "dict_values([1, 0, 0.8764241893076249, 0.5, -1])\n",
      "dict_items([(0, 1), (1.5707963267948966, 0), (0.7853981633974483, 0.8764241893076249), (1.0471975511965976, 0.5), (3.141592653589793, -1)])\n"
     ]
    }
   ],
   "source": [
    "print(d)\n",
    "print(d.keys())\n",
    "print(d.values())\n",
    "print(d.items())\n",
    "\n"
   ]
  },
  {
   "cell_type": "code",
   "execution_count": 42,
   "metadata": {},
   "outputs": [],
   "source": [
    "di = {}\n",
    "# In di we have values of x as key and cos x as value\n",
    "di = {str(x):np.cos(x) for x in np.linspace(0,np.pi,5)}\n"
   ]
  },
  {
   "cell_type": "code",
   "execution_count": 44,
   "metadata": {},
   "outputs": [
    {
     "name": "stdout",
     "output_type": "stream",
     "text": [
      "dfdfdf 0 waefsgf 1\n",
      "dfdfdf 1.5707963267948966 waefsgf 0\n",
      "dfdfdf 0.7853981633974483 waefsgf 0.8764241893076249\n",
      "dfdfdf 1.0471975511965976 waefsgf 0.5\n",
      "dfdfdf 3.141592653589793 waefsgf -1\n"
     ]
    }
   ],
   "source": [
    "for k,v in d.items():\n",
    "    print(\"dfdfdf {} waefsgf {}\".format(k,v))"
   ]
  },
  {
   "cell_type": "code",
   "execution_count": 48,
   "metadata": {},
   "outputs": [
    {
     "name": "stdout",
     "output_type": "stream",
     "text": [
      "<class 'tuple'>\n",
      "0 1\n",
      "<class 'tuple'>\n",
      "1.5707963267948966 0\n",
      "<class 'tuple'>\n",
      "0.7853981633974483 0.8764241893076249\n",
      "<class 'tuple'>\n",
      "1.0471975511965976 0.5\n",
      "<class 'tuple'>\n",
      "3.141592653589793 -1\n"
     ]
    }
   ],
   "source": [
    "for i in d.items():\n",
    "    print(type(i))\n",
    "    print(i[0],i[1])"
   ]
  },
  {
   "cell_type": "code",
   "execution_count": 49,
   "metadata": {
    "collapsed": true
   },
   "outputs": [],
   "source": [
    "import pandas as pd"
   ]
  },
  {
   "cell_type": "code",
   "execution_count": 55,
   "metadata": {},
   "outputs": [
    {
     "name": "stdout",
     "output_type": "stream",
     "text": [
      "0     1.000000\n",
      "1     0.978148\n",
      "2     0.913545\n",
      "3     0.809017\n",
      "4     0.669131\n",
      "5     0.500000\n",
      "6     0.309017\n",
      "7     0.104528\n",
      "8    -0.104528\n",
      "9    -0.309017\n",
      "10   -0.500000\n",
      "11   -0.669131\n",
      "12   -0.809017\n",
      "13   -0.913545\n",
      "14   -0.978148\n",
      "15   -1.000000\n",
      "dtype: float64\n",
      "<class 'pandas.core.series.Series'> 2110358736736\n",
      "[ 1.          0.9781476   0.91354546  0.80901699  0.66913061  0.5\n",
      "  0.30901699  0.10452846 -0.10452846 -0.30901699 -0.5        -0.66913061\n",
      " -0.80901699 -0.91354546 -0.9781476  -1.        ]\n",
      "<class 'numpy.ndarray'>\n",
      "RangeIndex(start=0, stop=16, step=1)\n",
      "<class 'pandas.core.indexes.range.RangeIndex'>\n"
     ]
    }
   ],
   "source": [
    "p = pd.Series([np.cos(x) for x in np.linspace(0,np.pi,16)])\n",
    "print(p)\n",
    "print(type(p), id(p))\n",
    "print(p.values)\n",
    "print(type(p.values))\n",
    "print(p.index)\n",
    "print(type(p.index))"
   ]
  },
  {
   "cell_type": "code",
   "execution_count": 56,
   "metadata": {},
   "outputs": [
    {
     "name": "stdout",
     "output_type": "stream",
     "text": [
      "<class 'pandas.core.indexes.range.RangeIndex'>\n"
     ]
    }
   ],
   "source": [
    "print(type(p.index))"
   ]
  },
  {
   "cell_type": "code",
   "execution_count": 64,
   "metadata": {},
   "outputs": [
    {
     "name": "stdout",
     "output_type": "stream",
     "text": [
      "Float64Index([           0.0, 0.209439510239, 0.418879020479, 0.628318530718,\n",
      "              0.837758040957,   1.0471975512,  1.25663706144,  1.46607657168,\n",
      "               1.67551608191,  1.88495559215,  2.09439510239,  2.30383461263,\n",
      "               2.51327412287,  2.72271363311,  2.93215314335,  3.14159265359],\n",
      "             dtype='float64')\n"
     ]
    }
   ],
   "source": [
    "p = pd.Series([np.cos(x) for x in np.linspace(0,np.pi,16)], index = [np.linspace(0,np.pi,16)])\n",
    "#print(p)\n",
    "print(p.index)\n",
    "\n",
    "## Levels = index\n",
    "## Labels = 0,1,...,15\n",
    "## These are present in 0.22.3 pandas cersion"
   ]
  },
  {
   "cell_type": "code",
   "execution_count": 68,
   "metadata": {},
   "outputs": [
    {
     "name": "stdout",
     "output_type": "stream",
     "text": [
      "0.20.3\n"
     ]
    }
   ],
   "source": [
    "print(pd.__version__)"
   ]
  },
  {
   "cell_type": "code",
   "execution_count": null,
   "metadata": {
    "collapsed": true
   },
   "outputs": [],
   "source": []
  },
  {
   "cell_type": "code",
   "execution_count": null,
   "metadata": {
    "collapsed": true
   },
   "outputs": [],
   "source": []
  },
  {
   "cell_type": "code",
   "execution_count": null,
   "metadata": {
    "collapsed": true
   },
   "outputs": [],
   "source": []
  }
 ],
 "metadata": {
  "kernelspec": {
   "display_name": "Python 3",
   "language": "python",
   "name": "python3"
  },
  "language_info": {
   "codemirror_mode": {
    "name": "ipython",
    "version": 3
   },
   "file_extension": ".py",
   "mimetype": "text/x-python",
   "name": "python",
   "nbconvert_exporter": "python",
   "pygments_lexer": "ipython3",
   "version": "3.6.1"
  }
 },
 "nbformat": 4,
 "nbformat_minor": 2
}
