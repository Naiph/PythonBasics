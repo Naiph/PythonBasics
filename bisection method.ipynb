{
 "cells": [
  {
   "cell_type": "code",
   "execution_count": 12,
   "metadata": {},
   "outputs": [],
   "source": [
    "import random"
   ]
  },
  {
   "cell_type": "code",
   "execution_count": null,
   "metadata": {},
   "outputs": [],
   "source": [
    "def rand():\n",
    "    x1 = 5\n",
    "    x2 = -5\n",
    "    #x1 = random.randrange(100)\n",
    "    y1 = x1**2 + 4 * x1 + 5\n",
    "    #x2 = random.randrange(100)\n",
    "    y2 = x2**2 + 4 * x2 + 5\n",
    "    if(y1 * y2 < 0):\n",
    "        return y1,y2\n",
    "    else:\n",
    "        rand()\n",
    "#print(\"y1: {:f} y2: {:f}\".format(y1,y2))\n",
    "y1,y2 = rand()"
   ]
  },
  {
   "cell_type": "code",
   "execution_count": null,
   "metadata": {},
   "outputs": [],
   "source": [
    "x1 = 5\n",
    "x2 = -5\n",
    "y1 = 15 * x1 - 15\n",
    "y2 = 15 * x2 - 15\n",
    "print(\"y1: {:f} y2: {:f}\".format(y1,y2))"
   ]
  },
  {
   "cell_type": "code",
   "execution_count": null,
   "metadata": {},
   "outputs": [],
   "source": [
    "if (y1 < 0 and y2 > 0 or y1 > 0 and y2 <0):\n",
    "    "
   ]
  },
  {
   "cell_type": "code",
   "execution_count": null,
   "metadata": {},
   "outputs": [],
   "source": [
    "def bisection(y1,y2):\n",
    "    yn = (y1 + y2) / 2\n",
    "#     yn = int(yn)\n",
    "    if(yn == 0):\n",
    "        print(\"y1: {:f} y2:{:f} yn: {:f}\".format(y1,y2,yn))\n",
    "        return yn;\n",
    "    print(yn)\n",
    "    if(yn > 0 and y2 < 0):\n",
    "        bisection(yn, y2)\n",
    "    if(yn < 0 and y1 > 0):\n",
    "        bisection(y1, yn)\n",
    "y = bisection(y1,y2)\n",
    "print(y)"
   ]
  },
  {
   "cell_type": "code",
   "execution_count": null,
   "metadata": {},
   "outputs": [],
   "source": [
    "# def bisection1(y1,y2,x1,x2):\n",
    "#     yn = (y1 + y2) / 2\n",
    "#     xn = (x1 + x2) / 2\n",
    "# #     yn = int(yn)\n",
    "#     if(yn == 0):\n",
    "#         print(\"y1: {:f} y2:{:f} yn: {:f} xn: {:f}\".format(y1,y2,yn,xn))\n",
    "#         return yn;\n",
    "#     print(yn)\n",
    "#     if(yn > 0 and y2 < 0):\n",
    "#         bisection1(yn, y2,xn,x2)\n",
    "#     if(yn < 0 and y1 > 0):\n",
    "#         bisection1(y1, yn,x1,xn)\n",
    "\n",
    "#         y = bisection1(y1,y2,x1,x2)\n",
    "# print(y)"
   ]
  },
  {
   "cell_type": "code",
   "execution_count": 216,
   "metadata": {},
   "outputs": [
    {
     "name": "stdout",
     "output_type": "stream",
     "text": [
      "y1: 0.000000 y2:-0.000000 yn: -0.000000 xn: 1.000000\n",
      "1.0\n"
     ]
    }
   ],
   "source": [
    "# %%timeit\n",
    "def bisection1(y1,y2,x1,x2):\n",
    "    yn = (y1 + y2) / 2\n",
    "    xn = (x1 + x2) / 2\n",
    "#     yn = int(yn)\n",
    "    if(yn == 0):\n",
    "        print(\"y1: {:f} y2:{:f} yn: {:f} xn: {:f}\".format(y1,y2,yn,xn))\n",
    "#         print(xn)\n",
    "        return xn;\n",
    "    if(yn > 0 and y2 < 0):\n",
    "        return bisection1(yn, y2,xn,x2)\n",
    "    elif(yn < 0 and y1 > 0):\n",
    "        return bisection1(y1, yn,x1,xn) \n",
    "        \n",
    "#     if(yn > 0 and y1 < 0):\n",
    "#         bisection1(yn, y1,xn,x2)\n",
    "#     elif(yn < 0 and y2 > 0):\n",
    "#         bisection1(y2, yn,x1,xn) \n",
    "\n",
    "def randomx():\n",
    "    x1 = random.randrange(100)\n",
    "    x2 = random.randrange(-100,0)\n",
    "    y1 = 15 * x1 - 15\n",
    "    y2 = 15 * x2 - 15\n",
    "#     print(\"y1: {:f} y2: {:f}\".format(y1,y2))\n",
    "    if(y2 * y1 < 0):\n",
    "        xn1 = bisection1(y1,y2,x1,x2)\n",
    "        print(xn1)\n",
    "    else:\n",
    "        randomx()\n",
    "randomx()\n"
   ]
  },
  {
   "cell_type": "code",
   "execution_count": null,
   "metadata": {},
   "outputs": [],
   "source": []
  },
  {
   "cell_type": "code",
   "execution_count": null,
   "metadata": {},
   "outputs": [],
   "source": []
  }
 ],
 "metadata": {
  "kernelspec": {
   "display_name": "Python 3",
   "language": "python",
   "name": "python3"
  },
  "language_info": {
   "codemirror_mode": {
    "name": "ipython",
    "version": 3
   },
   "file_extension": ".py",
   "mimetype": "text/x-python",
   "name": "python",
   "nbconvert_exporter": "python",
   "pygments_lexer": "ipython3",
   "version": "3.7.0"
  }
 },
 "nbformat": 4,
 "nbformat_minor": 2
}
