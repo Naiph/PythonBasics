{
 "cells": [
  {
   "cell_type": "code",
   "execution_count": 4,
   "metadata": {},
   "outputs": [
    {
     "name": "stdout",
     "output_type": "stream",
     "text": [
      "Data type = int32\n",
      "Np. of Dimentions = 1\n",
      "Size = 2\n",
      "Shape = (2,)\n"
     ]
    }
   ],
   "source": [
    "import numpy as np\n",
    "\n",
    "n = np.array([123,232])\n",
    "\n",
    "def ndfunc(ntemp):\n",
    "    print(\"Data type = {0}\".format(ntemp.dtype))\n",
    "    print(\"Np. of Dimentions = {0}\".format(ntemp.ndim))\n",
    "    print(\"Size = {0}\".format(ntemp.size))\n",
    "    print(\"Shape = {0}\".format(ntemp.shape))\n",
    "\n",
    "ndfunc(n)"
   ]
  },
  {
   "cell_type": "code",
   "execution_count": 5,
   "metadata": {
    "collapsed": true
   },
   "outputs": [],
   "source": [
    "#arange returns an array\n",
    "#range doesnt return anything\n",
    "\n",
    "# dont use loops while using numpy because it has already compiled code\n",
    "\n",
    "#### Rules: 1. Always use Ufuncs. 2. Functions that give stats about the array which is called aggrigation. 3. Broadcasting Doing operations on arrays that of different types or sizes\n",
    "##### 4. Fancy indexing\n",
    "### Keep utilizing the performance by not using for loops\n",
    "\n",
    "# In ufuncs: arthematic, comparision, logorithmic, max,min"
   ]
  },
  {
   "cell_type": "code",
   "execution_count": 8,
   "metadata": {},
   "outputs": [
    {
     "name": "stdout",
     "output_type": "stream",
     "text": [
      "Data type = float64\n",
      "Np. of Dimentions = 1\n",
      "Size = 10\n",
      "Shape = (10,)\n"
     ]
    }
   ],
   "source": [
    "x = np.arange(0,1,0.1)\n",
    "ndfunc(x)"
   ]
  },
  {
   "cell_type": "code",
   "execution_count": 10,
   "metadata": {},
   "outputs": [
    {
     "name": "stdout",
     "output_type": "stream",
     "text": [
      "Data type = float64\n",
      "Np. of Dimentions = 1\n",
      "Size = 20\n",
      "Shape = (20,)\n",
      "Data type = float64\n",
      "Np. of Dimentions = 2\n",
      "Size = 20\n",
      "Shape = (4, 5)\n"
     ]
    }
   ],
   "source": [
    "n1 = np.ones(20)\n",
    "#print(n1)\n",
    "n2 = n1.reshape(4,5)\n",
    "#print(n2)\n",
    "ndfunc(n1)\n",
    "ndfunc(n2)"
   ]
  },
  {
   "cell_type": "code",
   "execution_count": 11,
   "metadata": {},
   "outputs": [
    {
     "ename": "ValueError",
     "evalue": "cannot reshape array of size 20 into shape (5,5)",
     "output_type": "error",
     "traceback": [
      "\u001b[1;31m---------------------------------------------------------------------------\u001b[0m",
      "\u001b[1;31mValueError\u001b[0m                                Traceback (most recent call last)",
      "\u001b[1;32m<ipython-input-11-cbb00684d351>\u001b[0m in \u001b[0;36m<module>\u001b[1;34m()\u001b[0m\n\u001b[1;32m----> 1\u001b[1;33m \u001b[0mn3\u001b[0m \u001b[1;33m=\u001b[0m \u001b[0mn1\u001b[0m\u001b[1;33m.\u001b[0m\u001b[0mreshape\u001b[0m\u001b[1;33m(\u001b[0m\u001b[1;36m5\u001b[0m\u001b[1;33m,\u001b[0m\u001b[1;36m5\u001b[0m\u001b[1;33m)\u001b[0m\u001b[1;33m\u001b[0m\u001b[0m\n\u001b[0m",
      "\u001b[1;31mValueError\u001b[0m: cannot reshape array of size 20 into shape (5,5)"
     ]
    }
   ],
   "source": [
    "n3 = n1.reshape(5,5)"
   ]
  },
  {
   "cell_type": "code",
   "execution_count": 14,
   "metadata": {},
   "outputs": [
    {
     "name": "stdout",
     "output_type": "stream",
     "text": [
      "[[[ 1.  1.  1.  1.  1.  1.  1.  1.  1.]\n",
      "  [ 1.  1.  1.  1.  1.  1.  1.  1.  1.]\n",
      "  [ 1.  1.  1.  1.  1.  1.  1.  1.  1.]]\n",
      "\n",
      " [[ 1.  1.  1.  1.  1.  1.  1.  1.  1.]\n",
      "  [ 1.  1.  1.  1.  1.  1.  1.  1.  1.]\n",
      "  [ 1.  1.  1.  1.  1.  1.  1.  1.  1.]]\n",
      "\n",
      " [[ 1.  1.  1.  1.  1.  1.  1.  1.  1.]\n",
      "  [ 1.  1.  1.  1.  1.  1.  1.  1.  1.]\n",
      "  [ 1.  1.  1.  1.  1.  1.  1.  1.  1.]]\n",
      "\n",
      " [[ 1.  1.  1.  1.  1.  1.  1.  1.  1.]\n",
      "  [ 1.  1.  1.  1.  1.  1.  1.  1.  1.]\n",
      "  [ 1.  1.  1.  1.  1.  1.  1.  1.  1.]]\n",
      "\n",
      " [[ 1.  1.  1.  1.  1.  1.  1.  1.  1.]\n",
      "  [ 1.  1.  1.  1.  1.  1.  1.  1.  1.]\n",
      "  [ 1.  1.  1.  1.  1.  1.  1.  1.  1.]]\n",
      "\n",
      " [[ 1.  1.  1.  1.  1.  1.  1.  1.  1.]\n",
      "  [ 1.  1.  1.  1.  1.  1.  1.  1.  1.]\n",
      "  [ 1.  1.  1.  1.  1.  1.  1.  1.  1.]]]\n",
      "Data type = float64\n",
      "Np. of Dimentions = 3\n",
      "Size = 162\n",
      "Shape = (6, 3, 9)\n"
     ]
    }
   ],
   "source": [
    "n = np.ones(162).reshape(6,3,9)\n",
    "#m = np.ones(162).reshape(3,3,2,3,3)\n",
    "print(n)\n",
    "ndfunc(n)\n",
    "#ndfunc(m)\n",
    "#right most is the columns, next is rows, then blocks of 6 rows... CRBBBBBB"
   ]
  },
  {
   "cell_type": "code",
   "execution_count": 15,
   "metadata": {
    "collapsed": true
   },
   "outputs": [],
   "source": [
    "## HW is to timeit all the operations and cos^2x and sin^2x = 1 with lists and numpy arrays"
   ]
  },
  {
   "cell_type": "code",
   "execution_count": 12,
   "metadata": {},
   "outputs": [
    {
     "name": "stdout",
     "output_type": "stream",
     "text": [
      "1.0\n",
      "1.4142135623730951\n",
      "1.0\n",
      "3.0\n",
      "3.605551275463989\n",
      "3.0\n",
      "1.0\n",
      "2.8284271247461903\n",
      "1.4142135623730951\n",
      "1.0\n"
     ]
    },
    {
     "data": {
      "text/plain": [
       "array([1, 4, 3, 8, 4, 8, 1, 7, 5, 3])"
      ]
     },
     "execution_count": 12,
     "metadata": {},
     "output_type": "execute_result"
    }
   ],
   "source": [
    "# calculate the nearest neighbour for any point\n",
    "\n",
    "import numpy as np\n",
    "import math\n",
    "\n",
    "\n",
    "def dist(x1,x2,y1,y2):\n",
    "    dist = (x2 - x1)*(x2 - x1) + (y2 - y1)*(y2 - y1)\n",
    "\n",
    "    return math.sqrt(dist)\n",
    "\n",
    "\n",
    "#l = [i for i in range(20,30)]\n",
    "#li = [i for i in range(50,60)]\n",
    "\n",
    "#for i in range(9):\n",
    " #   print(dist(0,l[i],0,li[i]))\n",
    "\n",
    "#li = [i for i in range(1,11)]\n",
    "\n",
    "#l = [j for j in range(20,30)]   \n",
    "\n",
    "xcord = np.random.randint(10, size=(10))\n",
    "\n",
    "ycord = np.random.randint(10, size=(10))\n",
    "\n",
    "\n",
    "for j in range(10):\n",
    "    pox = xcord[j]\n",
    "    poy = ycord[j]\n",
    "\n",
    "    minn = np.finfo(np.float64).max\n",
    "\n",
    "    for i in range(10):\n",
    "        #print(pox,xcord[i],poy,ycord[i])\n",
    "        k = dist(pox,xcord[i],poy,ycord[i])\n",
    "        #print(k) \n",
    "        if minn > k and k != 0:\n",
    "            minn = k\n",
    "    print(minn)\n",
    "xcord\n"
   ]
  },
  {
   "cell_type": "code",
   "execution_count": 57,
   "metadata": {},
   "outputs": [
    {
     "name": "stdout",
     "output_type": "stream",
     "text": [
      "[[[ 0.68103929  0.23783143]\n",
      "  [ 0.42394413  0.57347405]]]\n"
     ]
    }
   ],
   "source": [
    "#x = np.random.random_sample((2,3,2))\n",
    "#print(x)\n",
    "x = np.random.rand(1,2,2)\n",
    "print(x)"
   ]
  },
  {
   "cell_type": "code",
   "execution_count": 71,
   "metadata": {},
   "outputs": [
    {
     "data": {
      "text/plain": [
       "26.870057685088806"
      ]
     },
     "execution_count": 71,
     "metadata": {},
     "output_type": "execute_result"
    }
   ],
   "source": [
    "dist(1,20,1,20)"
   ]
  },
  {
   "cell_type": "code",
   "execution_count": 73,
   "metadata": {},
   "outputs": [
    {
     "data": {
      "text/plain": [
       "26.870057685088806"
      ]
     },
     "execution_count": 73,
     "metadata": {},
     "output_type": "execute_result"
    }
   ],
   "source": [
    "dist(1,20,1,20)"
   ]
  },
  {
   "cell_type": "code",
   "execution_count": 75,
   "metadata": {},
   "outputs": [
    {
     "data": {
      "text/plain": [
       "41.012193308819754"
      ]
     },
     "execution_count": 75,
     "metadata": {},
     "output_type": "execute_result"
    }
   ],
   "source": [
    "dist(1,30,1,30)"
   ]
  },
  {
   "cell_type": "code",
   "execution_count": 143,
   "metadata": {},
   "outputs": [
    {
     "data": {
      "text/plain": [
       "array([8, 9, 9, 8, 4, 5, 6, 8, 8, 2])"
      ]
     },
     "execution_count": 143,
     "metadata": {},
     "output_type": "execute_result"
    }
   ],
   "source": [
    "x = np.random.randint(10, size=(10))\n",
    "x"
   ]
  },
  {
   "cell_type": "code",
   "execution_count": 166,
   "metadata": {},
   "outputs": [
    {
     "name": "stdout",
     "output_type": "stream",
     "text": [
      "1.79769313486e+308\n"
     ]
    },
    {
     "data": {
      "text/plain": [
       "2147483647"
      ]
     },
     "execution_count": 166,
     "metadata": {},
     "output_type": "execute_result"
    }
   ],
   "source": [
    "#a = np.max\n",
    "#type(a)\n",
    "a = np.finfo(np.float64).max\n",
    "print(a)\n",
    "b = np.iinfo(np.int32).max\n",
    "b"
   ]
  },
  {
   "cell_type": "code",
   "execution_count": 6,
   "metadata": {},
   "outputs": [
    {
     "name": "stdout",
     "output_type": "stream",
     "text": [
      "(3,)\n",
      "(3, 3)\n",
      "1\n"
     ]
    }
   ],
   "source": [
    "import numpy as np\n",
    "#15/1/19\n",
    "\n",
    "### Broadcasting\n",
    "\n",
    "a = np.zeros((3,3))\n",
    "b = np.arange(3)\n",
    "print(b.shape)\n",
    "print(a.shape)\n",
    "print(b.ndim)\n",
    "\n",
    "# repeatation starts from RHS\n"
   ]
  },
  {
   "cell_type": "code",
   "execution_count": 18,
   "metadata": {},
   "outputs": [
    {
     "name": "stdout",
     "output_type": "stream",
     "text": [
      "[[1. 1. 1.]\n",
      " [1. 1. 1.]\n",
      " [1. 1. 1.]]\n",
      "[[2. 2. 2.]\n",
      " [2. 2. 2.]\n",
      " [2. 2. 2.]]\n"
     ]
    },
    {
     "data": {
      "text/plain": [
       "array([[-1., -1., -1.],\n",
       "       [-1., -1., -1.],\n",
       "       [-1., -1., -1.]])"
      ]
     },
     "execution_count": 18,
     "metadata": {},
     "output_type": "execute_result"
    }
   ],
   "source": [
    "a1 = a + 1\n",
    "a2 = a1 + 1 \n",
    "print(a1)\n",
    "print(a2)\n",
    "\n",
    "a1 - a2 "
   ]
  },
  {
   "cell_type": "code",
   "execution_count": null,
   "metadata": {
    "collapsed": true
   },
   "outputs": [],
   "source": []
  }
 ],
 "metadata": {
  "kernelspec": {
   "display_name": "Python 3",
   "language": "python",
   "name": "python3"
  },
  "language_info": {
   "codemirror_mode": {
    "name": "ipython",
    "version": 3
   },
   "file_extension": ".py",
   "mimetype": "text/x-python",
   "name": "python",
   "nbconvert_exporter": "python",
   "pygments_lexer": "ipython3",
   "version": "3.7.1"
  }
 },
 "nbformat": 4,
 "nbformat_minor": 2
}
