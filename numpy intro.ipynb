{
 "cells": [
  {
   "cell_type": "code",
   "execution_count": 4,
   "metadata": {},
   "outputs": [
    {
     "name": "stdout",
     "output_type": "stream",
     "text": [
      "Data type = int32\n",
      "Np. of Dimentions = 1\n",
      "Size = 2\n",
      "Shape = (2,)\n"
     ]
    }
   ],
   "source": [
    "import numpy as np\n",
    "\n",
    "n = np.array([123,232])\n",
    "\n",
    "def ndfunc(ntemp):\n",
    "    print(\"Data type = {0}\".format(ntemp.dtype))\n",
    "    print(\"Np. of Dimentions = {0}\".format(ntemp.ndim))\n",
    "    print(\"Size = {0}\".format(ntemp.size))\n",
    "    print(\"Shape = {0}\".format(ntemp.shape))\n",
    "\n",
    "ndfunc(n)"
   ]
  },
  {
   "cell_type": "code",
   "execution_count": 5,
   "metadata": {
    "collapsed": true
   },
   "outputs": [],
   "source": [
    "#arange returns an array\n",
    "#range doesnt return anything\n",
    "\n",
    "# dont use loops while using numpy because it has already compiled code\n",
    "\n",
    "#### Rules: 1. Always use Ufuncs. 2. Functions that give stats about the array which is called aggrigation. 3. Broadcasting Doing operations on arrays that of different types or sizes\n",
    "##### 4. Fancy indexing\n",
    "### Keep utilizing the performance by not using for loops\n",
    "\n",
    "# "
   ]
  },
  {
   "cell_type": "code",
   "execution_count": 8,
   "metadata": {},
   "outputs": [
    {
     "name": "stdout",
     "output_type": "stream",
     "text": [
      "Data type = float64\n",
      "Np. of Dimentions = 1\n",
      "Size = 10\n",
      "Shape = (10,)\n"
     ]
    }
   ],
   "source": [
    "x = np.arange(0,1,0.1)\n",
    "ndfunc(x)"
   ]
  },
  {
   "cell_type": "code",
   "execution_count": 10,
   "metadata": {},
   "outputs": [
    {
     "name": "stdout",
     "output_type": "stream",
     "text": [
      "Data type = float64\n",
      "Np. of Dimentions = 1\n",
      "Size = 20\n",
      "Shape = (20,)\n",
      "Data type = float64\n",
      "Np. of Dimentions = 2\n",
      "Size = 20\n",
      "Shape = (4, 5)\n"
     ]
    }
   ],
   "source": [
    "n1 = np.ones(20)\n",
    "#print(n1)\n",
    "n2 = n1.reshape(4,5)\n",
    "#print(n2)\n",
    "ndfunc(n1)\n",
    "ndfunc(n2)"
   ]
  },
  {
   "cell_type": "code",
   "execution_count": 11,
   "metadata": {},
   "outputs": [
    {
     "ename": "ValueError",
     "evalue": "cannot reshape array of size 20 into shape (5,5)",
     "output_type": "error",
     "traceback": [
      "\u001b[1;31m---------------------------------------------------------------------------\u001b[0m",
      "\u001b[1;31mValueError\u001b[0m                                Traceback (most recent call last)",
      "\u001b[1;32m<ipython-input-11-cbb00684d351>\u001b[0m in \u001b[0;36m<module>\u001b[1;34m()\u001b[0m\n\u001b[1;32m----> 1\u001b[1;33m \u001b[0mn3\u001b[0m \u001b[1;33m=\u001b[0m \u001b[0mn1\u001b[0m\u001b[1;33m.\u001b[0m\u001b[0mreshape\u001b[0m\u001b[1;33m(\u001b[0m\u001b[1;36m5\u001b[0m\u001b[1;33m,\u001b[0m\u001b[1;36m5\u001b[0m\u001b[1;33m)\u001b[0m\u001b[1;33m\u001b[0m\u001b[0m\n\u001b[0m",
      "\u001b[1;31mValueError\u001b[0m: cannot reshape array of size 20 into shape (5,5)"
     ]
    }
   ],
   "source": [
    "n3 = n1.reshape(5,5)"
   ]
  },
  {
   "cell_type": "code",
   "execution_count": 14,
   "metadata": {},
   "outputs": [
    {
     "name": "stdout",
     "output_type": "stream",
     "text": [
      "[[[ 1.  1.  1.  1.  1.  1.  1.  1.  1.]\n",
      "  [ 1.  1.  1.  1.  1.  1.  1.  1.  1.]\n",
      "  [ 1.  1.  1.  1.  1.  1.  1.  1.  1.]]\n",
      "\n",
      " [[ 1.  1.  1.  1.  1.  1.  1.  1.  1.]\n",
      "  [ 1.  1.  1.  1.  1.  1.  1.  1.  1.]\n",
      "  [ 1.  1.  1.  1.  1.  1.  1.  1.  1.]]\n",
      "\n",
      " [[ 1.  1.  1.  1.  1.  1.  1.  1.  1.]\n",
      "  [ 1.  1.  1.  1.  1.  1.  1.  1.  1.]\n",
      "  [ 1.  1.  1.  1.  1.  1.  1.  1.  1.]]\n",
      "\n",
      " [[ 1.  1.  1.  1.  1.  1.  1.  1.  1.]\n",
      "  [ 1.  1.  1.  1.  1.  1.  1.  1.  1.]\n",
      "  [ 1.  1.  1.  1.  1.  1.  1.  1.  1.]]\n",
      "\n",
      " [[ 1.  1.  1.  1.  1.  1.  1.  1.  1.]\n",
      "  [ 1.  1.  1.  1.  1.  1.  1.  1.  1.]\n",
      "  [ 1.  1.  1.  1.  1.  1.  1.  1.  1.]]\n",
      "\n",
      " [[ 1.  1.  1.  1.  1.  1.  1.  1.  1.]\n",
      "  [ 1.  1.  1.  1.  1.  1.  1.  1.  1.]\n",
      "  [ 1.  1.  1.  1.  1.  1.  1.  1.  1.]]]\n",
      "Data type = float64\n",
      "Np. of Dimentions = 3\n",
      "Size = 162\n",
      "Shape = (6, 3, 9)\n"
     ]
    }
   ],
   "source": [
    "n = np.ones(162).reshape(6,3,9)\n",
    "#m = np.ones(162).reshape(3,3,2,3,3)\n",
    "print(n)\n",
    "ndfunc(n)\n",
    "#ndfunc(m)\n",
    "#right most is the columns, next is rows, then blocks of 6 rows... CRBBBBBB"
   ]
  },
  {
   "cell_type": "code",
   "execution_count": null,
   "metadata": {
    "collapsed": true
   },
   "outputs": [],
   "source": [
    "## HW is to timeit all the"
   ]
  }
 ],
 "metadata": {
  "kernelspec": {
   "display_name": "Python 3",
   "language": "python",
   "name": "python3"
  },
  "language_info": {
   "codemirror_mode": {
    "name": "ipython",
    "version": 3
   },
   "file_extension": ".py",
   "mimetype": "text/x-python",
   "name": "python",
   "nbconvert_exporter": "python",
   "pygments_lexer": "ipython3",
   "version": "3.6.1"
  }
 },
 "nbformat": 4,
 "nbformat_minor": 2
}
