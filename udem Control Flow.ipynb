{
 "cells": [
  {
   "cell_type": "code",
   "execution_count": 1,
   "metadata": {},
   "outputs": [
    {
     "name": "stdout",
     "output_type": "stream",
     "text": [
      "enter  name:bnm,\n",
      "enter age bnm,:4\n",
      "4\n",
      "come back in 14 years\n"
     ]
    }
   ],
   "source": [
    "name=input(\"enter  name:\")\n",
    "age = int (input(\"enter age {0}:\".format(name)))\n",
    "print(age)\n",
    "\n",
    "if (age>=18):\n",
    "    print(\"you're old enough to  vote\")\n",
    "    print(\"Put an X in the box\")\n",
    "else:\n",
    "    print(\"come back in {0} years\".format(18-age))"
   ]
  },
  {
   "cell_type": "code",
   "execution_count": 13,
   "metadata": {},
   "outputs": [
    {
     "name": "stdout",
     "output_type": "stream",
     "text": [
      "2\n",
      "guess higher\n",
      "5\n",
      "Well done\n"
     ]
    }
   ],
   "source": [
    "guess = int(input())\n",
    "if guess<5:\n",
    "    print(\"guess higher\")\n",
    "    guess = int(input())\n",
    "    if guess==5:\n",
    "        print(\"Well done\")\n",
    "    else:\n",
    "        print(\"Wrong!!\")\n",
    "    \n",
    "elif guess > 5:\n",
    "    print(\"guess lower\")\n",
    "    guess = int(input())\n",
    "    if guess==5:\n",
    "        print(\"Well done\")\n",
    "    else:\n",
    "        print(\"Wrong!!\")\n",
    "        \n",
    "else:\n",
    "    print(\"You got it first time\")\n",
    "    "
   ]
  },
  {
   "cell_type": "code",
   "execution_count": 16,
   "metadata": {},
   "outputs": [
    {
     "name": "stdout",
     "output_type": "stream",
     "text": [
      "15\n",
      "sdsdv\n"
     ]
    }
   ],
   "source": [
    "age = int(input())\n",
    "if (age < 16) or (age > 65):\n",
    "    print(\"sdsdv\")\n",
    "    \n",
    "\n"
   ]
  },
  {
   "cell_type": "code",
   "execution_count": 20,
   "metadata": {},
   "outputs": [
    {
     "name": "stdout",
     "output_type": "stream",
     "text": [
      "x is true\n"
     ]
    }
   ],
   "source": [
    "x = \"false\"\n",
    "if x:\n",
    "    print(\"x is true\")"
   ]
  },
  {
   "cell_type": "code",
   "execution_count": 21,
   "metadata": {},
   "outputs": [
    {
     "name": "stdout",
     "output_type": "stream",
     "text": [
      "True\n"
     ]
    }
   ],
   "source": [
    "print(not False )"
   ]
  },
  {
   "cell_type": "code",
   "execution_count": 3,
   "metadata": {},
   "outputs": [
    {
     "name": "stdout",
     "output_type": "stream",
     "text": [
      "Enter a char k\n",
      "Give me a k \n"
     ]
    }
   ],
   "source": [
    "k = \"ksnNJN\"\n",
    "letter = input(\"Enter a char \")\n",
    "\n",
    "if letter in k:\n",
    "    print(\"Give me a {0} \".format(letter))\n",
    "else:\n",
    "    print(\"dont need that one\")"
   ]
  },
  {
   "cell_type": "code",
   "execution_count": 43,
   "metadata": {},
   "outputs": [
    {
     "name": "stdout",
     "output_type": "stream",
     "text": [
      "a\n"
     ]
    }
   ],
   "source": [
    "def asd():\n",
    "    print(\"a\")\n",
    "    \n",
    "asd()\n",
    "    \n",
    "    \n"
   ]
  },
  {
   "cell_type": "code",
   "execution_count": 1,
   "metadata": {},
   "outputs": [
    {
     "name": "stdout",
     "output_type": "stream",
     "text": [
      "Enter name:sdvsd\n",
      "Enter age sdvsd:12\n"
     ]
    }
   ],
   "source": [
    "#Challenge\n",
    "name = input(\"Enter name:\")\n",
    "age = input(\"Enter age {0}:\".format(name))\n",
    "\n",
    "if(18<age<30):\n",
    "    print(\"\")"
   ]
  },
  {
   "cell_type": "code",
   "execution_count": 7,
   "metadata": {},
   "outputs": [
    {
     "name": "stdout",
     "output_type": "stream",
     "text": [
      "9\n",
      "1\n"
     ]
    }
   ],
   "source": [
    "#for i in range(1,20):\n",
    "   # print(i)\n",
    "\n",
    "number=\"9,223,323,4224,13,443\"\n",
    "#for i in range(0,len(number)):\n",
    " #   print(number[i])\n",
    "    \n",
    "for i in range(0,len(number)):\n",
    "    if number[i] in \"819999678\":\n",
    "        print(number[i])  "
   ]
  },
  {
   "cell_type": "code",
   "execution_count": 1,
   "metadata": {},
   "outputs": [
    {
     "name": "stdout",
     "output_type": "stream",
     "text": [
      "9223323422413443\n"
     ]
    }
   ],
   "source": [
    "number=\"9,223,323,4224,13,443\"\n",
    "cleanedNum = ''\n",
    "for char in number:\n",
    "    if char in '0123456789':\n",
    "        cleanedNum = cleanedNum + char\n",
    "        \n",
    "\n",
    "num = int(cleanedNum)\n",
    "print(num)"
   ]
  },
  {
   "cell_type": "code",
   "execution_count": 7,
   "metadata": {},
   "outputs": [
    {
     "name": "stdout",
     "output_type": "stream",
     "text": [
      "sdsdv a\n",
      "sdsdv s\n",
      "sdsdv d\n"
     ]
    }
   ],
   "source": [
    "for state in ['a','s','d']:\n",
    "    print('sdsdv {0}'.format(state))"
   ]
  },
  {
   "cell_type": "code",
   "execution_count": 9,
   "metadata": {},
   "outputs": [
    {
     "name": "stdout",
     "output_type": "stream",
     "text": [
      "0\n",
      "5\n",
      "10\n",
      "15\n",
      "20\n",
      "25\n",
      "30\n",
      "35\n",
      "40\n",
      "45\n",
      "50\n",
      "55\n",
      "60\n",
      "65\n",
      "70\n",
      "75\n",
      "80\n",
      "85\n",
      "90\n",
      "95\n"
     ]
    }
   ],
   "source": [
    "for i in range(0,100,5):\n",
    "    print(i)"
   ]
  },
  {
   "cell_type": "code",
   "execution_count": 15,
   "metadata": {},
   "outputs": [
    {
     "name": "stdout",
     "output_type": "stream",
     "text": [
      "1 times 1 equals 1\n",
      "1 times 2 equals 2\n",
      "1 times 3 equals 3\n",
      "1 times 4 equals 4\n",
      "1 times 5 equals 5\n",
      "1 times 6 equals 6\n",
      "1 times 7 equals 7\n",
      "1 times 8 equals 8\n",
      "1 times 9 equals 9\n",
      "1 times 10 equals 10\n",
      "-----------\n",
      "2 times 1 equals 2\n",
      "2 times 2 equals 4\n",
      "2 times 3 equals 6\n",
      "2 times 4 equals 8\n",
      "2 times 5 equals 10\n",
      "2 times 6 equals 12\n",
      "2 times 7 equals 14\n",
      "2 times 8 equals 16\n",
      "2 times 9 equals 18\n",
      "2 times 10 equals 20\n",
      "-----------\n",
      "3 times 1 equals 3\n",
      "3 times 2 equals 6\n",
      "3 times 3 equals 9\n",
      "3 times 4 equals 12\n",
      "3 times 5 equals 15\n",
      "3 times 6 equals 18\n",
      "3 times 7 equals 21\n",
      "3 times 8 equals 24\n",
      "3 times 9 equals 27\n",
      "3 times 10 equals 30\n",
      "-----------\n",
      "4 times 1 equals 4\n",
      "4 times 2 equals 8\n",
      "4 times 3 equals 12\n",
      "4 times 4 equals 16\n",
      "4 times 5 equals 20\n",
      "4 times 6 equals 24\n",
      "4 times 7 equals 28\n",
      "4 times 8 equals 32\n",
      "4 times 9 equals 36\n",
      "4 times 10 equals 40\n",
      "-----------\n",
      "5 times 1 equals 5\n",
      "5 times 2 equals 10\n",
      "5 times 3 equals 15\n",
      "5 times 4 equals 20\n",
      "5 times 5 equals 25\n",
      "5 times 6 equals 30\n",
      "5 times 7 equals 35\n",
      "5 times 8 equals 40\n",
      "5 times 9 equals 45\n",
      "5 times 10 equals 50\n",
      "-----------\n",
      "6 times 1 equals 6\n",
      "6 times 2 equals 12\n",
      "6 times 3 equals 18\n",
      "6 times 4 equals 24\n",
      "6 times 5 equals 30\n",
      "6 times 6 equals 36\n",
      "6 times 7 equals 42\n",
      "6 times 8 equals 48\n",
      "6 times 9 equals 54\n",
      "6 times 10 equals 60\n",
      "-----------\n",
      "7 times 1 equals 7\n",
      "7 times 2 equals 14\n",
      "7 times 3 equals 21\n",
      "7 times 4 equals 28\n",
      "7 times 5 equals 35\n",
      "7 times 6 equals 42\n",
      "7 times 7 equals 49\n",
      "7 times 8 equals 56\n",
      "7 times 9 equals 63\n",
      "7 times 10 equals 70\n",
      "-----------\n",
      "8 times 1 equals 8\n",
      "8 times 2 equals 16\n",
      "8 times 3 equals 24\n",
      "8 times 4 equals 32\n",
      "8 times 5 equals 40\n",
      "8 times 6 equals 48\n",
      "8 times 7 equals 56\n",
      "8 times 8 equals 64\n",
      "8 times 9 equals 72\n",
      "8 times 10 equals 80\n",
      "-----------\n",
      "9 times 1 equals 9\n",
      "9 times 2 equals 18\n",
      "9 times 3 equals 27\n",
      "9 times 4 equals 36\n",
      "9 times 5 equals 45\n",
      "9 times 6 equals 54\n",
      "9 times 7 equals 63\n",
      "9 times 8 equals 72\n",
      "9 times 9 equals 81\n",
      "9 times 10 equals 90\n",
      "-----------\n",
      "10 times 1 equals 10\n",
      "10 times 2 equals 20\n",
      "10 times 3 equals 30\n",
      "10 times 4 equals 40\n",
      "10 times 5 equals 50\n",
      "10 times 6 equals 60\n",
      "10 times 7 equals 70\n",
      "10 times 8 equals 80\n",
      "10 times 9 equals 90\n",
      "10 times 10 equals 100\n",
      "-----------\n"
     ]
    }
   ],
   "source": [
    "for i in range(1,11):\n",
    "    for j in range(1,11):\n",
    "        print('{0} times {1} equals {2}'.format(i,j,i*j))\n",
    "    print('-----------')"
   ]
  },
  {
   "cell_type": "code",
   "execution_count": 17,
   "metadata": {},
   "outputs": [
    {
     "name": "stdout",
     "output_type": "stream",
     "text": [
      "item isa\n",
      "item isab\n",
      "item isasa\n",
      "item issd\n",
      "item issad\n"
     ]
    }
   ],
   "source": [
    "for i in ['a','ab','asa','sd','sad']:\n",
    "    print(\"item is\"+i)\n",
    "    "
   ]
  },
  {
   "cell_type": "code",
   "execution_count": 24,
   "metadata": {},
   "outputs": [
    {
     "name": "stdout",
     "output_type": "stream",
     "text": [
      "asd\n",
      "asdf\n"
     ]
    }
   ],
   "source": [
    "arr = ['asd','asdf','asdfg','asdfgh']\n",
    "\n",
    "for item in arr:\n",
    "    if item == 'asdfg':\n",
    "        break\n",
    "    print(item)\n",
    "    \n",
    "    \n",
    "    "
   ]
  },
  {
   "cell_type": "code",
   "execution_count": 39,
   "metadata": {},
   "outputs": [
    {
     "name": "stdout",
     "output_type": "stream",
     "text": [
      "24\n"
     ]
    }
   ],
   "source": [
    "x = 24\n",
    "x **= 1\n",
    "print(x)"
   ]
  },
  {
   "cell_type": "code",
   "execution_count": 65,
   "metadata": {},
   "outputs": [
    {
     "name": "stdout",
     "output_type": "stream",
     "text": [
      "Enter IP: 1..4.1.1\n",
      "1 0\n",
      "2 0\n",
      "3 0\n",
      "4 0\n",
      "5 0\n"
     ]
    }
   ],
   "source": [
    "IP = input('Enter IP: ')\n",
    "\n",
    "segment = 1\n",
    "segment_length = 0\n",
    "chara=\"\"\n",
    "for chara in IP:\n",
    "    if chara =='.':\n",
    "        print(segment, segment_length)\n",
    "        segment += 1\n",
    "        \n",
    "        #print(\"its here in if\")\n",
    "        \n",
    "    else:\n",
    "        segment_lenth += 1\n",
    "        #print(\"its here in else\")\n",
    "        \n",
    "if chara != '.':\n",
    "    print(segment,segment_length)\n",
    "\n",
    "    \n",
    "#Not Working"
   ]
  },
  {
   "cell_type": "code",
   "execution_count": 5,
   "metadata": {},
   "outputs": [
    {
     "name": "stdout",
     "output_type": "stream",
     "text": [
      "i is now 0\n",
      "i is now 1\n"
     ]
    }
   ],
   "source": [
    "for i in range(2):\n",
    "    print(\"i is now {}\".format(i))"
   ]
  },
  {
   "cell_type": "code",
   "execution_count": 7,
   "metadata": {},
   "outputs": [
    {
     "name": "stdout",
     "output_type": "stream",
     "text": [
      "k is now 0\n",
      "k is now 1\n",
      "k is now 2\n",
      "k is now 3\n",
      "k is now 4\n",
      "k is now 5\n",
      "k is now 6\n",
      "k is now 7\n",
      "k is now 8\n",
      "k is now 9\n"
     ]
    }
   ],
   "source": [
    "k=0\n",
    "while k<10:\n",
    "    print(\"k is now {}\".format(k))\n",
    "    k += 1"
   ]
  },
  {
   "cell_type": "code",
   "execution_count": 4,
   "metadata": {},
   "outputs": [
    {
     "name": "stdout",
     "output_type": "stream",
     "text": [
      "Please select an available exit\n",
      "Please select an available exitexit\n",
      "Please select an available exitnorht\n",
      "Please select an available exitnorht\n",
      "Please select an available exitnorth\n",
      "Glad you're  out of here\n"
     ]
    }
   ],
   "source": [
    "availableExits = ['north', 'east','north east']\n",
    "chosenExit=''\n",
    "while chosenExit not in availableExits:\n",
    "    chosenExit= input(\"Please select an available exit\")\n",
    "    \n",
    "print(\"Glad you're  out of here\")\n",
    "    "
   ]
  },
  {
   "cell_type": "code",
   "execution_count": 45,
   "metadata": {},
   "outputs": [
    {
     "name": "stdout",
     "output_type": "stream",
     "text": [
      "1\n",
      "guess higher\n",
      "2\n",
      "You havent guessed correctly\n",
      "2\n",
      "guess higher\n",
      "3\n",
      "You havent guessed correctly\n",
      "4\n",
      "guess higher\n",
      "4\n",
      "You havent guessed correctly\n",
      "5\n",
      "guess higher\n",
      "6\n",
      "You havent guessed correctly\n",
      "7\n",
      "guess higher\n",
      "8\n",
      "Well done you did it\n"
     ]
    }
   ],
   "source": [
    "import random\n",
    "highest = 10\n",
    "answer = random.randint(1,highest)\n",
    "#print(answer)\n",
    "guess = 0\n",
    "while guess != answer:\n",
    "    guess = int(input())\n",
    "    if guess != answer:\n",
    "\n",
    "        if guess < answer:\n",
    "            print(\"guess higher\")\n",
    "        else:\n",
    "            print(\"guess lower\")\n",
    "        guess = int(input())\n",
    "        if guess == answer:\n",
    "            print(\"Well done you did it\")\n",
    "        else:\n",
    "            print(\"You havent guessed correctly\")\n",
    "    else:\n",
    "        print(\"You got it first time\")\n",
    "        \n",
    "        \n",
    "        "
   ]
  },
  {
   "cell_type": "code",
   "execution_count": 49,
   "metadata": {},
   "outputs": [
    {
     "name": "stdout",
     "output_type": "stream",
     "text": [
      "1\n",
      "guess higher\n",
      "2\n",
      "guess higher\n",
      "3\n",
      "guess higher\n",
      "7\n",
      "guess lower\n",
      "5\n",
      "guess higher\n",
      "3\n",
      "guess higher\n",
      "5\n",
      "guess higher\n",
      "6\n",
      "you got it\n"
     ]
    }
   ],
   "source": [
    "import random\n",
    "highest = 10\n",
    "answer = random.randint(1,highest)\n",
    "#print(answer)\n",
    "guess = 0\n",
    "while guess != answer:\n",
    "    guess = int(input())\n",
    "\n",
    "    if guess < answer:\n",
    "        print(\"guess higher\")\n",
    "    elif guess > answer:\n",
    "        print(\"guess lower\")\n",
    "    else:\n",
    "        print(\"you got it\")\n",
    "           "
   ]
  },
  {
   "cell_type": "code",
   "execution_count": 52,
   "metadata": {},
   "outputs": [
    {
     "name": "stdout",
     "output_type": "stream",
     "text": [
      "1\n",
      "guess higher\n",
      "1\n",
      "guess higher\n",
      "1\n",
      "guess higher\n",
      "1\n",
      "guess higher\n",
      "1\n",
      "guess higher\n",
      "1\n",
      "guess higher\n",
      "1\n",
      "guess higher\n",
      "1\n",
      "guess higher\n",
      "1\n",
      "guess higher\n"
     ]
    }
   ],
   "source": [
    "#10 guess challenge\n",
    "import random\n",
    "highest = 20\n",
    "answer = random.randint(1,highest)\n",
    "#print(answer)\n",
    "guess = 0\n",
    "\n",
    "for i in range(1,10):\n",
    "    guess = int(input())\n",
    "\n",
    "    if guess < answer:\n",
    "        print(\"guess higher\")\n",
    "    elif guess > answer:\n",
    "        print(\"guess lower\")\n",
    "    else:\n",
    "        print(\"you got it\")\n",
    "        break"
   ]
  },
  {
   "cell_type": "code",
   "execution_count": null,
   "metadata": {
    "collapsed": true
   },
   "outputs": [],
   "source": [
    "#lists\n",
    "#ip = input(\"Enter IP\")\n",
    "#print(ip.count('.'))"
   ]
  },
  {
   "cell_type": "code",
   "execution_count": 8,
   "metadata": {},
   "outputs": [
    {
     "data": {
      "text/plain": [
       "[1, 3, 4, 1, 5]"
      ]
     },
     "execution_count": 8,
     "metadata": {},
     "output_type": "execute_result"
    }
   ],
   "source": [
    "arr=[1,3,4,1]\n",
    "arr.append(5)\n",
    "arr"
   ]
  },
  {
   "cell_type": "code",
   "execution_count": 16,
   "metadata": {},
   "outputs": [
    {
     "data": {
      "text/plain": [
       "[1, 2, 3, 4, 5, 6, 7, 8]"
      ]
     },
     "execution_count": 16,
     "metadata": {},
     "output_type": "execute_result"
    }
   ],
   "source": [
    "arr1 = [1,3,5,7]\n",
    "arr2 = [2,4,6,8]\n",
    "\n",
    "ar = arr1 + arr2\n",
    "#print(ar.sort()) ---- output is none\n",
    "# instead sorted(ar) is used\n",
    "\n",
    "ar.sort()\n",
    "ar"
   ]
  },
  {
   "cell_type": "code",
   "execution_count": null,
   "metadata": {
    "collapsed": true
   },
   "outputs": [],
   "source": []
  },
  {
   "cell_type": "code",
   "execution_count": null,
   "metadata": {
    "collapsed": true
   },
   "outputs": [],
   "source": []
  }
 ],
 "metadata": {
  "kernelspec": {
   "display_name": "Python 3",
   "language": "python",
   "name": "python3"
  },
  "language_info": {
   "codemirror_mode": {
    "name": "ipython",
    "version": 3
   },
   "file_extension": ".py",
   "mimetype": "text/x-python",
   "name": "python",
   "nbconvert_exporter": "python",
   "pygments_lexer": "ipython3",
   "version": "3.6.1"
  }
 },
 "nbformat": 4,
 "nbformat_minor": 2
}
