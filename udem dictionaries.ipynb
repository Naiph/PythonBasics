{
 "cells": [
  {
   "cell_type": "code",
   "execution_count": null,
   "metadata": {},
   "outputs": [
    {
     "name": "stdout",
     "output_type": "stream",
     "text": [
      "{'orange': 'orange', 'apple': 'red', 'banana': 'yellow'}\n"
     ]
    }
   ],
   "source": [
    "#dictionaries\n",
    "#key value pair \n",
    "\n",
    "fruit = {\"orange\": \"orange\",\n",
    "         \"apple\": \"red\",\n",
    "        \"banana\": 'yellow'}\n",
    "\n",
    "#print(fruit)\n",
    "#del fruit[\"banana\"]\n",
    "print(fruit)\n",
    "\n",
    "while True:\n",
    "    dict_key = input(\"Enter a fruit\")\n",
    "    if dict_key == \"quit\":\n",
    "        break;\n",
    "    if dict_key in fruit:\n",
    "        print(fruit.get(dict_key))"
   ]
  },
  {
   "cell_type": "code",
   "execution_count": null,
   "metadata": {
    "collapsed": true
   },
   "outputs": [],
   "source": []
  }
 ],
 "metadata": {
  "kernelspec": {
   "display_name": "Python 3",
   "language": "python",
   "name": "python3"
  },
  "language_info": {
   "codemirror_mode": {
    "name": "ipython",
    "version": 3
   },
   "file_extension": ".py",
   "mimetype": "text/x-python",
   "name": "python",
   "nbconvert_exporter": "python",
   "pygments_lexer": "ipython3",
   "version": "3.6.1"
  }
 },
 "nbformat": 4,
 "nbformat_minor": 2
}
